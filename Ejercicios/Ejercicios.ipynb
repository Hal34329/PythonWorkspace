{
 "cells": [
  {
   "cell_type": "code",
   "execution_count": null,
   "metadata": {},
   "outputs": [],
   "source": [
    "# -*- coding: utf-8 -*-\n",
    "print(\"Ejercicio 13\")\n",
    "\n",
    "#Entradas\n",
    "year = int(input(\"Ingrese año:\"))\n",
    "print(\"Año\", year)\n",
    "\n",
    "#Salida\n",
    "print(\"\\nSalida:\")\n",
    "if(year%400 == 0) or (year%400 == 0) and (year%100 != 0):\n",
    "    print(\"El año es bisiesto\")\n",
    "else:\n",
    "    print(\"El año no es bisisesto\")"
   ]
  },
  {
   "cell_type": "code",
   "execution_count": null,
   "metadata": {},
   "outputs": [],
   "source": [
    "# -*- coding: utf-8 -*-\n",
    "print(\"Ejercicio 14\")\n",
    "\n",
    "#Entradas\n",
    "print(\"Ingrese valores: \")\n",
    "NUM = int(input(\"Tipo de calculo:\"))\n",
    "V = int(input(\"Ingrese V:\"))\n",
    "\n",
    "#Proceso\n",
    "#Usando un diccionario\n",
    "Funcion = {\n",
    "    1: 100*V,\n",
    "    2: 100**V, # 100^V\n",
    "    3: 100/V\n",
    "}\n",
    "\n",
    "#dictionary.get(ElementoABuscarEnDiccionario, porDefecto)\n",
    "#porDefecto: En caso de que el elemento no se encuentre\n",
    "VAL = Funcion.get(NUM, 0)\n",
    "\n",
    "#Salida\n",
    "print(\"\\nSalida:\", VAL)"
   ]
  },
  {
   "cell_type": "code",
   "execution_count": null,
   "metadata": {},
   "outputs": [],
   "source": [
    "# -*- coding: utf-8 -*-\n",
    "print(\"Ejercicio 15\")\n",
    "\n",
    "#Entradas\n",
    "NUM = int(input(\"Ingrese número:\"))\n",
    "\n",
    "#Proceso\n",
    "#Usando un diccionario\n",
    "par_Impar = {\n",
    "    1: 'Impar',\n",
    "    2: 'Par',\n",
    "    3: 'Impar',\n",
    "    4: 'Par', \n",
    "    5: 'Impar',\n",
    "    6: 'Par',\n",
    "    7: 'Impar',\n",
    "    8: 'Par',\n",
    "    9: 'Impar',\n",
    "    10: 'Par'\n",
    "}\n",
    "\n",
    "#Salida\n",
    "print(\"\\nSalida:\")\n",
    "print(par_Impar.get(NUM, \"Número fuera de rango\"))"
   ]
  }
 ],
 "metadata": {
  "kernelspec": {
   "display_name": "Python 3",
   "language": "python",
   "name": "python3"
  },
  "language_info": {
   "codemirror_mode": {
    "name": "ipython",
    "version": 3
   },
   "file_extension": ".py",
   "mimetype": "text/x-python",
   "name": "python",
   "nbconvert_exporter": "python",
   "pygments_lexer": "ipython3",
   "version": "3.11.2"
  },
  "orig_nbformat": 4
 },
 "nbformat": 4,
 "nbformat_minor": 2
}
