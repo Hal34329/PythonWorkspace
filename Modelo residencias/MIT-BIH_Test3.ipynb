{
 "cells": [
  {
   "cell_type": "code",
   "execution_count": 2,
   "metadata": {},
   "outputs": [],
   "source": [
    "import numpy as np # linear algebra\n",
    "import pandas as pd # data processing, CSV file I/O (e.g. pd.read_csv)\n",
    "import re # For regular expressios with Python"
   ]
  },
  {
   "cell_type": "markdown",
   "metadata": {},
   "source": [
    "Read dataset"
   ]
  },
  {
   "cell_type": "code",
   "execution_count": 3,
   "metadata": {},
   "outputs": [
    {
     "name": "stdout",
     "output_type": "stream",
     "text": [
      "(100689, 34)\n"
     ]
    },
    {
     "data": {
      "text/html": [
       "<div>\n",
       "<style scoped>\n",
       "    .dataframe tbody tr th:only-of-type {\n",
       "        vertical-align: middle;\n",
       "    }\n",
       "\n",
       "    .dataframe tbody tr th {\n",
       "        vertical-align: top;\n",
       "    }\n",
       "\n",
       "    .dataframe thead th {\n",
       "        text-align: right;\n",
       "    }\n",
       "</style>\n",
       "<table border=\"1\" class=\"dataframe\">\n",
       "  <thead>\n",
       "    <tr style=\"text-align: right;\">\n",
       "      <th></th>\n",
       "      <th>record</th>\n",
       "      <th>type</th>\n",
       "      <th>0_pre-RR</th>\n",
       "      <th>0_post-RR</th>\n",
       "      <th>0_pPeak</th>\n",
       "      <th>0_tPeak</th>\n",
       "      <th>0_rPeak</th>\n",
       "      <th>0_sPeak</th>\n",
       "      <th>0_qPeak</th>\n",
       "      <th>0_qrs_interval</th>\n",
       "      <th>...</th>\n",
       "      <th>1_qPeak</th>\n",
       "      <th>1_qrs_interval</th>\n",
       "      <th>1_pq_interval</th>\n",
       "      <th>1_qt_interval</th>\n",
       "      <th>1_st_interval</th>\n",
       "      <th>1_qrs_morph0</th>\n",
       "      <th>1_qrs_morph1</th>\n",
       "      <th>1_qrs_morph2</th>\n",
       "      <th>1_qrs_morph3</th>\n",
       "      <th>1_qrs_morph4</th>\n",
       "    </tr>\n",
       "  </thead>\n",
       "  <tbody>\n",
       "    <tr>\n",
       "      <th>0</th>\n",
       "      <td>101</td>\n",
       "      <td>N</td>\n",
       "      <td>76</td>\n",
       "      <td>313.0</td>\n",
       "      <td>0.074347</td>\n",
       "      <td>-0.160548</td>\n",
       "      <td>1.036401</td>\n",
       "      <td>-0.285662</td>\n",
       "      <td>-0.026824</td>\n",
       "      <td>41</td>\n",
       "      <td>...</td>\n",
       "      <td>0.025930</td>\n",
       "      <td>2</td>\n",
       "      <td>18</td>\n",
       "      <td>22</td>\n",
       "      <td>2</td>\n",
       "      <td>0.025930</td>\n",
       "      <td>0.025930</td>\n",
       "      <td>0.025930</td>\n",
       "      <td>0.025436</td>\n",
       "      <td>0.025436</td>\n",
       "    </tr>\n",
       "    <tr>\n",
       "      <th>1</th>\n",
       "      <td>101</td>\n",
       "      <td>N</td>\n",
       "      <td>313</td>\n",
       "      <td>315.0</td>\n",
       "      <td>-0.052079</td>\n",
       "      <td>-0.264784</td>\n",
       "      <td>0.886597</td>\n",
       "      <td>-0.366298</td>\n",
       "      <td>-0.059710</td>\n",
       "      <td>21</td>\n",
       "      <td>...</td>\n",
       "      <td>-0.042009</td>\n",
       "      <td>26</td>\n",
       "      <td>27</td>\n",
       "      <td>62</td>\n",
       "      <td>9</td>\n",
       "      <td>-0.042009</td>\n",
       "      <td>-0.029498</td>\n",
       "      <td>0.005012</td>\n",
       "      <td>0.030892</td>\n",
       "      <td>0.002986</td>\n",
       "    </tr>\n",
       "    <tr>\n",
       "      <th>2</th>\n",
       "      <td>101</td>\n",
       "      <td>N</td>\n",
       "      <td>315</td>\n",
       "      <td>321.0</td>\n",
       "      <td>-0.062151</td>\n",
       "      <td>-0.296983</td>\n",
       "      <td>0.991859</td>\n",
       "      <td>-0.410306</td>\n",
       "      <td>-0.065686</td>\n",
       "      <td>22</td>\n",
       "      <td>...</td>\n",
       "      <td>0.009528</td>\n",
       "      <td>3</td>\n",
       "      <td>8</td>\n",
       "      <td>12</td>\n",
       "      <td>1</td>\n",
       "      <td>0.009528</td>\n",
       "      <td>0.009528</td>\n",
       "      <td>0.008786</td>\n",
       "      <td>0.008786</td>\n",
       "      <td>0.008368</td>\n",
       "    </tr>\n",
       "    <tr>\n",
       "      <th>3</th>\n",
       "      <td>101</td>\n",
       "      <td>N</td>\n",
       "      <td>321</td>\n",
       "      <td>336.0</td>\n",
       "      <td>-0.063322</td>\n",
       "      <td>-0.281386</td>\n",
       "      <td>1.034903</td>\n",
       "      <td>-0.403880</td>\n",
       "      <td>-0.071750</td>\n",
       "      <td>22</td>\n",
       "      <td>...</td>\n",
       "      <td>-0.020536</td>\n",
       "      <td>6</td>\n",
       "      <td>9</td>\n",
       "      <td>16</td>\n",
       "      <td>1</td>\n",
       "      <td>-0.020536</td>\n",
       "      <td>-0.020257</td>\n",
       "      <td>-0.018965</td>\n",
       "      <td>-0.016968</td>\n",
       "      <td>-0.014555</td>\n",
       "    </tr>\n",
       "    <tr>\n",
       "      <th>4</th>\n",
       "      <td>101</td>\n",
       "      <td>N</td>\n",
       "      <td>336</td>\n",
       "      <td>344.0</td>\n",
       "      <td>-0.062915</td>\n",
       "      <td>1.046914</td>\n",
       "      <td>1.046408</td>\n",
       "      <td>1.046408</td>\n",
       "      <td>-0.074639</td>\n",
       "      <td>11</td>\n",
       "      <td>...</td>\n",
       "      <td>0.016053</td>\n",
       "      <td>16</td>\n",
       "      <td>5</td>\n",
       "      <td>31</td>\n",
       "      <td>10</td>\n",
       "      <td>0.016053</td>\n",
       "      <td>0.006742</td>\n",
       "      <td>0.002782</td>\n",
       "      <td>-0.007798</td>\n",
       "      <td>-0.051155</td>\n",
       "    </tr>\n",
       "  </tbody>\n",
       "</table>\n",
       "<p>5 rows × 34 columns</p>\n",
       "</div>"
      ],
      "text/plain": [
       "   record type  0_pre-RR  0_post-RR   0_pPeak   0_tPeak   0_rPeak   0_sPeak  \\\n",
       "0     101    N        76      313.0  0.074347 -0.160548  1.036401 -0.285662   \n",
       "1     101    N       313      315.0 -0.052079 -0.264784  0.886597 -0.366298   \n",
       "2     101    N       315      321.0 -0.062151 -0.296983  0.991859 -0.410306   \n",
       "3     101    N       321      336.0 -0.063322 -0.281386  1.034903 -0.403880   \n",
       "4     101    N       336      344.0 -0.062915  1.046914  1.046408  1.046408   \n",
       "\n",
       "    0_qPeak  0_qrs_interval  ...   1_qPeak  1_qrs_interval  1_pq_interval  \\\n",
       "0 -0.026824              41  ...  0.025930               2             18   \n",
       "1 -0.059710              21  ... -0.042009              26             27   \n",
       "2 -0.065686              22  ...  0.009528               3              8   \n",
       "3 -0.071750              22  ... -0.020536               6              9   \n",
       "4 -0.074639              11  ...  0.016053              16              5   \n",
       "\n",
       "   1_qt_interval  1_st_interval  1_qrs_morph0  1_qrs_morph1  1_qrs_morph2  \\\n",
       "0             22              2      0.025930      0.025930      0.025930   \n",
       "1             62              9     -0.042009     -0.029498      0.005012   \n",
       "2             12              1      0.009528      0.009528      0.008786   \n",
       "3             16              1     -0.020536     -0.020257     -0.018965   \n",
       "4             31             10      0.016053      0.006742      0.002782   \n",
       "\n",
       "   1_qrs_morph3  1_qrs_morph4  \n",
       "0      0.025436      0.025436  \n",
       "1      0.030892      0.002986  \n",
       "2      0.008786      0.008368  \n",
       "3     -0.016968     -0.014555  \n",
       "4     -0.007798     -0.051155  \n",
       "\n",
       "[5 rows x 34 columns]"
      ]
     },
     "execution_count": 3,
     "metadata": {},
     "output_type": "execute_result"
    }
   ],
   "source": [
    "# Reading MIT-BIH Arrhythmia Dataset as an example\n",
    "data_df = pd.read_csv('MIT-BIH Arrhythmia Database.csv') \n",
    "print(data_df.shape)\n",
    "data_df.head()"
   ]
  },
  {
   "cell_type": "code",
   "execution_count": 4,
   "metadata": {},
   "outputs": [],
   "source": [
    "qrs_morph_columns = [col for col in data_df.columns if re.search(r'\\d+_qrs_morph\\d+', col)]\n",
    "\n",
    "data_df_no_morph = data_df.drop(columns=qrs_morph_columns)"
   ]
  },
  {
   "cell_type": "code",
   "execution_count": 5,
   "metadata": {},
   "outputs": [
    {
     "data": {
      "text/html": [
       "<div>\n",
       "<style scoped>\n",
       "    .dataframe tbody tr th:only-of-type {\n",
       "        vertical-align: middle;\n",
       "    }\n",
       "\n",
       "    .dataframe tbody tr th {\n",
       "        vertical-align: top;\n",
       "    }\n",
       "\n",
       "    .dataframe thead th {\n",
       "        text-align: right;\n",
       "    }\n",
       "</style>\n",
       "<table border=\"1\" class=\"dataframe\">\n",
       "  <thead>\n",
       "    <tr style=\"text-align: right;\">\n",
       "      <th></th>\n",
       "      <th>record</th>\n",
       "      <th>type</th>\n",
       "      <th>0_pre-RR</th>\n",
       "      <th>0_post-RR</th>\n",
       "      <th>0_pPeak</th>\n",
       "      <th>0_tPeak</th>\n",
       "      <th>0_rPeak</th>\n",
       "      <th>0_sPeak</th>\n",
       "      <th>0_qPeak</th>\n",
       "      <th>0_qrs_interval</th>\n",
       "      <th>...</th>\n",
       "      <th>1_post-RR</th>\n",
       "      <th>1_pPeak</th>\n",
       "      <th>1_tPeak</th>\n",
       "      <th>1_rPeak</th>\n",
       "      <th>1_sPeak</th>\n",
       "      <th>1_qPeak</th>\n",
       "      <th>1_qrs_interval</th>\n",
       "      <th>1_pq_interval</th>\n",
       "      <th>1_qt_interval</th>\n",
       "      <th>1_st_interval</th>\n",
       "    </tr>\n",
       "  </thead>\n",
       "  <tbody>\n",
       "    <tr>\n",
       "      <th>0</th>\n",
       "      <td>101</td>\n",
       "      <td>N</td>\n",
       "      <td>76</td>\n",
       "      <td>313.0</td>\n",
       "      <td>0.074347</td>\n",
       "      <td>-0.160548</td>\n",
       "      <td>1.036401</td>\n",
       "      <td>-0.285662</td>\n",
       "      <td>-0.026824</td>\n",
       "      <td>41</td>\n",
       "      <td>...</td>\n",
       "      <td>313.0</td>\n",
       "      <td>0.038310</td>\n",
       "      <td>0.025784</td>\n",
       "      <td>0.025930</td>\n",
       "      <td>0.025271</td>\n",
       "      <td>0.025930</td>\n",
       "      <td>2</td>\n",
       "      <td>18</td>\n",
       "      <td>22</td>\n",
       "      <td>2</td>\n",
       "    </tr>\n",
       "    <tr>\n",
       "      <th>1</th>\n",
       "      <td>101</td>\n",
       "      <td>N</td>\n",
       "      <td>313</td>\n",
       "      <td>315.0</td>\n",
       "      <td>-0.052079</td>\n",
       "      <td>-0.264784</td>\n",
       "      <td>0.886597</td>\n",
       "      <td>-0.366298</td>\n",
       "      <td>-0.059710</td>\n",
       "      <td>21</td>\n",
       "      <td>...</td>\n",
       "      <td>315.0</td>\n",
       "      <td>0.014264</td>\n",
       "      <td>0.045458</td>\n",
       "      <td>0.032573</td>\n",
       "      <td>-0.104503</td>\n",
       "      <td>-0.042009</td>\n",
       "      <td>26</td>\n",
       "      <td>27</td>\n",
       "      <td>62</td>\n",
       "      <td>9</td>\n",
       "    </tr>\n",
       "    <tr>\n",
       "      <th>2</th>\n",
       "      <td>101</td>\n",
       "      <td>N</td>\n",
       "      <td>315</td>\n",
       "      <td>321.0</td>\n",
       "      <td>-0.062151</td>\n",
       "      <td>-0.296983</td>\n",
       "      <td>0.991859</td>\n",
       "      <td>-0.410306</td>\n",
       "      <td>-0.065686</td>\n",
       "      <td>22</td>\n",
       "      <td>...</td>\n",
       "      <td>321.0</td>\n",
       "      <td>0.021311</td>\n",
       "      <td>0.008246</td>\n",
       "      <td>0.009528</td>\n",
       "      <td>0.008230</td>\n",
       "      <td>0.009528</td>\n",
       "      <td>3</td>\n",
       "      <td>8</td>\n",
       "      <td>12</td>\n",
       "      <td>1</td>\n",
       "    </tr>\n",
       "    <tr>\n",
       "      <th>3</th>\n",
       "      <td>101</td>\n",
       "      <td>N</td>\n",
       "      <td>321</td>\n",
       "      <td>336.0</td>\n",
       "      <td>-0.063322</td>\n",
       "      <td>-0.281386</td>\n",
       "      <td>1.034903</td>\n",
       "      <td>-0.403880</td>\n",
       "      <td>-0.071750</td>\n",
       "      <td>22</td>\n",
       "      <td>...</td>\n",
       "      <td>336.0</td>\n",
       "      <td>-0.000665</td>\n",
       "      <td>-0.009725</td>\n",
       "      <td>-0.010203</td>\n",
       "      <td>-0.010203</td>\n",
       "      <td>-0.020536</td>\n",
       "      <td>6</td>\n",
       "      <td>9</td>\n",
       "      <td>16</td>\n",
       "      <td>1</td>\n",
       "    </tr>\n",
       "    <tr>\n",
       "      <th>4</th>\n",
       "      <td>101</td>\n",
       "      <td>N</td>\n",
       "      <td>336</td>\n",
       "      <td>344.0</td>\n",
       "      <td>-0.062915</td>\n",
       "      <td>1.046914</td>\n",
       "      <td>1.046408</td>\n",
       "      <td>1.046408</td>\n",
       "      <td>-0.074639</td>\n",
       "      <td>11</td>\n",
       "      <td>...</td>\n",
       "      <td>344.0</td>\n",
       "      <td>0.024559</td>\n",
       "      <td>0.016925</td>\n",
       "      <td>0.016053</td>\n",
       "      <td>-0.099918</td>\n",
       "      <td>0.016053</td>\n",
       "      <td>16</td>\n",
       "      <td>5</td>\n",
       "      <td>31</td>\n",
       "      <td>10</td>\n",
       "    </tr>\n",
       "  </tbody>\n",
       "</table>\n",
       "<p>5 rows × 24 columns</p>\n",
       "</div>"
      ],
      "text/plain": [
       "   record type  0_pre-RR  0_post-RR   0_pPeak   0_tPeak   0_rPeak   0_sPeak  \\\n",
       "0     101    N        76      313.0  0.074347 -0.160548  1.036401 -0.285662   \n",
       "1     101    N       313      315.0 -0.052079 -0.264784  0.886597 -0.366298   \n",
       "2     101    N       315      321.0 -0.062151 -0.296983  0.991859 -0.410306   \n",
       "3     101    N       321      336.0 -0.063322 -0.281386  1.034903 -0.403880   \n",
       "4     101    N       336      344.0 -0.062915  1.046914  1.046408  1.046408   \n",
       "\n",
       "    0_qPeak  0_qrs_interval  ...  1_post-RR   1_pPeak   1_tPeak   1_rPeak  \\\n",
       "0 -0.026824              41  ...      313.0  0.038310  0.025784  0.025930   \n",
       "1 -0.059710              21  ...      315.0  0.014264  0.045458  0.032573   \n",
       "2 -0.065686              22  ...      321.0  0.021311  0.008246  0.009528   \n",
       "3 -0.071750              22  ...      336.0 -0.000665 -0.009725 -0.010203   \n",
       "4 -0.074639              11  ...      344.0  0.024559  0.016925  0.016053   \n",
       "\n",
       "    1_sPeak   1_qPeak  1_qrs_interval  1_pq_interval  1_qt_interval  \\\n",
       "0  0.025271  0.025930               2             18             22   \n",
       "1 -0.104503 -0.042009              26             27             62   \n",
       "2  0.008230  0.009528               3              8             12   \n",
       "3 -0.010203 -0.020536               6              9             16   \n",
       "4 -0.099918  0.016053              16              5             31   \n",
       "\n",
       "   1_st_interval  \n",
       "0              2  \n",
       "1              9  \n",
       "2              1  \n",
       "3              1  \n",
       "4             10  \n",
       "\n",
       "[5 rows x 24 columns]"
      ]
     },
     "execution_count": 5,
     "metadata": {},
     "output_type": "execute_result"
    }
   ],
   "source": [
    "data_df_no_morph.head()"
   ]
  },
  {
   "cell_type": "code",
   "execution_count": 7,
   "metadata": {},
   "outputs": [
    {
     "data": {
      "text/plain": [
       "record              int64\n",
       "type               object\n",
       "0_pre-RR            int64\n",
       "0_post-RR         float64\n",
       "0_pPeak           float64\n",
       "0_tPeak           float64\n",
       "0_rPeak           float64\n",
       "0_sPeak           float64\n",
       "0_qPeak           float64\n",
       "0_qrs_interval      int64\n",
       "0_pq_interval       int64\n",
       "0_qt_interval       int64\n",
       "0_st_interval       int64\n",
       "1_pre-RR            int64\n",
       "1_post-RR         float64\n",
       "1_pPeak           float64\n",
       "1_tPeak           float64\n",
       "1_rPeak           float64\n",
       "1_sPeak           float64\n",
       "1_qPeak           float64\n",
       "1_qrs_interval      int64\n",
       "1_pq_interval       int64\n",
       "1_qt_interval       int64\n",
       "1_st_interval       int64\n",
       "dtype: object"
      ]
     },
     "execution_count": 7,
     "metadata": {},
     "output_type": "execute_result"
    }
   ],
   "source": [
    "data_df_no_morph.dtypes"
   ]
  },
  {
   "cell_type": "markdown",
   "metadata": {},
   "source": [
    "Split the data into features and class labels"
   ]
  },
  {
   "cell_type": "code",
   "execution_count": 21,
   "metadata": {},
   "outputs": [],
   "source": [
    "x_data = data_df_no_morph.iloc[:, 2:].copy()\n",
    "y_label = data_df_no_morph[['type']].copy()"
   ]
  },
  {
   "cell_type": "code",
   "execution_count": 22,
   "metadata": {},
   "outputs": [
    {
     "data": {
      "text/html": [
       "<div>\n",
       "<style scoped>\n",
       "    .dataframe tbody tr th:only-of-type {\n",
       "        vertical-align: middle;\n",
       "    }\n",
       "\n",
       "    .dataframe tbody tr th {\n",
       "        vertical-align: top;\n",
       "    }\n",
       "\n",
       "    .dataframe thead th {\n",
       "        text-align: right;\n",
       "    }\n",
       "</style>\n",
       "<table border=\"1\" class=\"dataframe\">\n",
       "  <thead>\n",
       "    <tr style=\"text-align: right;\">\n",
       "      <th></th>\n",
       "      <th>0_pre-RR</th>\n",
       "      <th>0_post-RR</th>\n",
       "      <th>0_pPeak</th>\n",
       "      <th>0_tPeak</th>\n",
       "      <th>0_rPeak</th>\n",
       "      <th>0_sPeak</th>\n",
       "      <th>0_qPeak</th>\n",
       "      <th>0_qrs_interval</th>\n",
       "      <th>0_pq_interval</th>\n",
       "      <th>0_qt_interval</th>\n",
       "      <th>...</th>\n",
       "      <th>1_post-RR</th>\n",
       "      <th>1_pPeak</th>\n",
       "      <th>1_tPeak</th>\n",
       "      <th>1_rPeak</th>\n",
       "      <th>1_sPeak</th>\n",
       "      <th>1_qPeak</th>\n",
       "      <th>1_qrs_interval</th>\n",
       "      <th>1_pq_interval</th>\n",
       "      <th>1_qt_interval</th>\n",
       "      <th>1_st_interval</th>\n",
       "    </tr>\n",
       "  </thead>\n",
       "  <tbody>\n",
       "    <tr>\n",
       "      <th>0</th>\n",
       "      <td>76</td>\n",
       "      <td>313.0</td>\n",
       "      <td>0.074347</td>\n",
       "      <td>-0.160548</td>\n",
       "      <td>1.036401</td>\n",
       "      <td>-0.285662</td>\n",
       "      <td>-0.026824</td>\n",
       "      <td>41</td>\n",
       "      <td>18</td>\n",
       "      <td>66</td>\n",
       "      <td>...</td>\n",
       "      <td>313.0</td>\n",
       "      <td>0.038310</td>\n",
       "      <td>0.025784</td>\n",
       "      <td>0.025930</td>\n",
       "      <td>0.025271</td>\n",
       "      <td>0.025930</td>\n",
       "      <td>2</td>\n",
       "      <td>18</td>\n",
       "      <td>22</td>\n",
       "      <td>2</td>\n",
       "    </tr>\n",
       "    <tr>\n",
       "      <th>1</th>\n",
       "      <td>313</td>\n",
       "      <td>315.0</td>\n",
       "      <td>-0.052079</td>\n",
       "      <td>-0.264784</td>\n",
       "      <td>0.886597</td>\n",
       "      <td>-0.366298</td>\n",
       "      <td>-0.059710</td>\n",
       "      <td>21</td>\n",
       "      <td>4</td>\n",
       "      <td>33</td>\n",
       "      <td>...</td>\n",
       "      <td>315.0</td>\n",
       "      <td>0.014264</td>\n",
       "      <td>0.045458</td>\n",
       "      <td>0.032573</td>\n",
       "      <td>-0.104503</td>\n",
       "      <td>-0.042009</td>\n",
       "      <td>26</td>\n",
       "      <td>27</td>\n",
       "      <td>62</td>\n",
       "      <td>9</td>\n",
       "    </tr>\n",
       "    <tr>\n",
       "      <th>2</th>\n",
       "      <td>315</td>\n",
       "      <td>321.0</td>\n",
       "      <td>-0.062151</td>\n",
       "      <td>-0.296983</td>\n",
       "      <td>0.991859</td>\n",
       "      <td>-0.410306</td>\n",
       "      <td>-0.065686</td>\n",
       "      <td>22</td>\n",
       "      <td>3</td>\n",
       "      <td>32</td>\n",
       "      <td>...</td>\n",
       "      <td>321.0</td>\n",
       "      <td>0.021311</td>\n",
       "      <td>0.008246</td>\n",
       "      <td>0.009528</td>\n",
       "      <td>0.008230</td>\n",
       "      <td>0.009528</td>\n",
       "      <td>3</td>\n",
       "      <td>8</td>\n",
       "      <td>12</td>\n",
       "      <td>1</td>\n",
       "    </tr>\n",
       "    <tr>\n",
       "      <th>3</th>\n",
       "      <td>321</td>\n",
       "      <td>336.0</td>\n",
       "      <td>-0.063322</td>\n",
       "      <td>-0.281386</td>\n",
       "      <td>1.034903</td>\n",
       "      <td>-0.403880</td>\n",
       "      <td>-0.071750</td>\n",
       "      <td>22</td>\n",
       "      <td>4</td>\n",
       "      <td>33</td>\n",
       "      <td>...</td>\n",
       "      <td>336.0</td>\n",
       "      <td>-0.000665</td>\n",
       "      <td>-0.009725</td>\n",
       "      <td>-0.010203</td>\n",
       "      <td>-0.010203</td>\n",
       "      <td>-0.020536</td>\n",
       "      <td>6</td>\n",
       "      <td>9</td>\n",
       "      <td>16</td>\n",
       "      <td>1</td>\n",
       "    </tr>\n",
       "    <tr>\n",
       "      <th>4</th>\n",
       "      <td>336</td>\n",
       "      <td>344.0</td>\n",
       "      <td>-0.062915</td>\n",
       "      <td>1.046914</td>\n",
       "      <td>1.046408</td>\n",
       "      <td>1.046408</td>\n",
       "      <td>-0.074639</td>\n",
       "      <td>11</td>\n",
       "      <td>4</td>\n",
       "      <td>16</td>\n",
       "      <td>...</td>\n",
       "      <td>344.0</td>\n",
       "      <td>0.024559</td>\n",
       "      <td>0.016925</td>\n",
       "      <td>0.016053</td>\n",
       "      <td>-0.099918</td>\n",
       "      <td>0.016053</td>\n",
       "      <td>16</td>\n",
       "      <td>5</td>\n",
       "      <td>31</td>\n",
       "      <td>10</td>\n",
       "    </tr>\n",
       "  </tbody>\n",
       "</table>\n",
       "<p>5 rows × 22 columns</p>\n",
       "</div>"
      ],
      "text/plain": [
       "   0_pre-RR  0_post-RR   0_pPeak   0_tPeak   0_rPeak   0_sPeak   0_qPeak  \\\n",
       "0        76      313.0  0.074347 -0.160548  1.036401 -0.285662 -0.026824   \n",
       "1       313      315.0 -0.052079 -0.264784  0.886597 -0.366298 -0.059710   \n",
       "2       315      321.0 -0.062151 -0.296983  0.991859 -0.410306 -0.065686   \n",
       "3       321      336.0 -0.063322 -0.281386  1.034903 -0.403880 -0.071750   \n",
       "4       336      344.0 -0.062915  1.046914  1.046408  1.046408 -0.074639   \n",
       "\n",
       "   0_qrs_interval  0_pq_interval  0_qt_interval  ...  1_post-RR   1_pPeak  \\\n",
       "0              41             18             66  ...      313.0  0.038310   \n",
       "1              21              4             33  ...      315.0  0.014264   \n",
       "2              22              3             32  ...      321.0  0.021311   \n",
       "3              22              4             33  ...      336.0 -0.000665   \n",
       "4              11              4             16  ...      344.0  0.024559   \n",
       "\n",
       "    1_tPeak   1_rPeak   1_sPeak   1_qPeak  1_qrs_interval  1_pq_interval  \\\n",
       "0  0.025784  0.025930  0.025271  0.025930               2             18   \n",
       "1  0.045458  0.032573 -0.104503 -0.042009              26             27   \n",
       "2  0.008246  0.009528  0.008230  0.009528               3              8   \n",
       "3 -0.009725 -0.010203 -0.010203 -0.020536               6              9   \n",
       "4  0.016925  0.016053 -0.099918  0.016053              16              5   \n",
       "\n",
       "   1_qt_interval  1_st_interval  \n",
       "0             22              2  \n",
       "1             62              9  \n",
       "2             12              1  \n",
       "3             16              1  \n",
       "4             31             10  \n",
       "\n",
       "[5 rows x 22 columns]"
      ]
     },
     "execution_count": 22,
     "metadata": {},
     "output_type": "execute_result"
    }
   ],
   "source": [
    "x_data.head()"
   ]
  },
  {
   "cell_type": "code",
   "execution_count": 23,
   "metadata": {},
   "outputs": [
    {
     "data": {
      "text/plain": [
       "type\n",
       "N       90083\n",
       "VEB      7009\n",
       "SVEB     2779\n",
       "F         803\n",
       "Q          15\n",
       "Name: count, dtype: int64"
      ]
     },
     "execution_count": 23,
     "metadata": {},
     "output_type": "execute_result"
    }
   ],
   "source": [
    "y_label.value_counts()"
   ]
  },
  {
   "cell_type": "code",
   "execution_count": 24,
   "metadata": {},
   "outputs": [],
   "source": [
    "# Transform multi-class labels into binary-class (arrhythmia and normal)\n",
    "y_label.replace(['VEB', 'SVEB', 'F', 'Q'], 'arrhythmia', inplace=True)\n",
    "y_label.replace(['N'], 'normal', inplace=True)\n",
    "\n",
    "#y_label.loc[y_label['type'].isin(['VEB', 'SVEB', 'F', 'Q']), 'type'] = 'arrhythmia'\n",
    "#y_label.loc[y_label['type'] == 'N', 'type'] = 'normal'"
   ]
  },
  {
   "cell_type": "code",
   "execution_count": 25,
   "metadata": {},
   "outputs": [
    {
     "data": {
      "text/plain": [
       "type      \n",
       "normal        90083\n",
       "arrhythmia    10606\n",
       "Name: count, dtype: int64"
      ]
     },
     "execution_count": 25,
     "metadata": {},
     "output_type": "execute_result"
    }
   ],
   "source": [
    "y_label.value_counts()"
   ]
  },
  {
   "cell_type": "markdown",
   "metadata": {},
   "source": [
    "Train-test Split"
   ]
  },
  {
   "cell_type": "code",
   "execution_count": 11,
   "metadata": {},
   "outputs": [],
   "source": [
    "from sklearn.model_selection import train_test_split\n",
    "X_train, X_test, y_train, y_test = train_test_split(x_data, y_label, random_state=101)"
   ]
  },
  {
   "cell_type": "markdown",
   "metadata": {},
   "source": [
    "Feature Scaling"
   ]
  },
  {
   "cell_type": "code",
   "execution_count": 26,
   "metadata": {},
   "outputs": [
    {
     "name": "stdout",
     "output_type": "stream",
     "text": [
      "[0.00047847 0.00047438 0.14497051 0.163272   0.15645161 0.13086489\n",
      " 0.14384207 0.00588235 0.00671141 0.00303951 0.00714286 0.00047847\n",
      " 0.00047438 0.13755979 0.10530541 0.12688961 0.10556911 0.10509129\n",
      " 0.00456621 0.00543478 0.002457   0.00531915]\n"
     ]
    }
   ],
   "source": [
    "from sklearn import preprocessing\n",
    "\n",
    "min_max_scaler = preprocessing.MinMaxScaler()\n",
    "X_train_scaled = min_max_scaler.fit_transform(X_train)\n",
    "X_test_scaled = min_max_scaler.transform(X_test)\n",
    "\n",
    "print(min_max_scaler.scale_)"
   ]
  },
  {
   "cell_type": "code",
   "execution_count": 27,
   "metadata": {},
   "outputs": [
    {
     "data": {
      "text/plain": [
       "array([[0.15263158, 0.15512334, 0.44506625, ..., 0.04891304, 0.04176904,\n",
       "        0.05319149],\n",
       "       [0.08277512, 0.09250474, 0.45011298, ..., 0.01086957, 0.04914005,\n",
       "        0.05851064],\n",
       "       [0.13349282, 0.09250474, 0.45430416, ..., 0.10326087, 0.0982801 ,\n",
       "        0.10106383],\n",
       "       ...,\n",
       "       [0.10813397, 0.10721063, 0.44058918, ..., 0.05978261, 0.07125307,\n",
       "        0.        ],\n",
       "       [0.22583732, 0.14848197, 0.44756388, ..., 0.01630435, 0.03931204,\n",
       "        0.00531915],\n",
       "       [0.13971292, 0.15227704, 0.47261668, ..., 0.02173913, 0.07616708,\n",
       "        0.06382979]])"
      ]
     },
     "execution_count": 27,
     "metadata": {},
     "output_type": "execute_result"
    }
   ],
   "source": [
    "X_train_scaled"
   ]
  },
  {
   "cell_type": "markdown",
   "metadata": {},
   "source": [
    "Model Training"
   ]
  },
  {
   "cell_type": "code",
   "execution_count": 40,
   "metadata": {},
   "outputs": [
    {
     "name": "stdout",
     "output_type": "stream",
     "text": [
      "Accuracy for the train data 1.0\n"
     ]
    }
   ],
   "source": [
    "from sklearn.ensemble import RandomForestClassifier\n",
    "\n",
    "y_train_1d = y_train.values.ravel()  # Convertir a array 1D\n",
    "\n",
    "model = RandomForestClassifier(random_state=101, n_estimators=150)\n",
    "#model.fit(X_train_scaled, y_train) # Original\n",
    "model.fit(X_train_scaled, y_train_1d)\n",
    "\n",
    "# training accuracy\n",
    "print('Accuracy for the train data', model.score(X_train_scaled, y_train))"
   ]
  },
  {
   "cell_type": "markdown",
   "metadata": {},
   "source": [
    "Model Testing"
   ]
  },
  {
   "cell_type": "code",
   "execution_count": 41,
   "metadata": {},
   "outputs": [
    {
     "name": "stdout",
     "output_type": "stream",
     "text": [
      "Accuracy: 0.9900289993246733\n",
      "*** Confusion Matrix ***\n",
      "[[ 2388   193]\n",
      " [   58 22534]]\n"
     ]
    }
   ],
   "source": [
    "from sklearn import metrics\n",
    "y_pred = model.predict(X_test_scaled)\n",
    "print(\"Accuracy:\",metrics.accuracy_score(y_test, y_pred))\n",
    "\n",
    "print(\"*** Confusion Matrix ***\")\n",
    "print(metrics.confusion_matrix(y_test, y_pred))"
   ]
  },
  {
   "cell_type": "markdown",
   "metadata": {},
   "source": [
    "Export model"
   ]
  },
  {
   "cell_type": "code",
   "execution_count": 103,
   "metadata": {},
   "outputs": [
    {
     "data": {
      "text/plain": [
       "['Nehemiah.pkl']"
      ]
     },
     "execution_count": 103,
     "metadata": {},
     "output_type": "execute_result"
    }
   ],
   "source": [
    "import joblib\n",
    "\n",
    "# Save model in a file\n",
    "joblib.dump((model, min_max_scaler), 'Nehemiah.pkl')"
   ]
  },
  {
   "cell_type": "markdown",
   "metadata": {},
   "source": [
    "Gemini"
   ]
  },
  {
   "cell_type": "markdown",
   "metadata": {},
   "source": [
    "Entiendo. El error \"UserWarning: X does not have valid feature names, but MinMaxScaler was fitted with feature names\" indica que el objeto MinMaxScaler se ajustó con datos que tenían nombres de características (columnas), pero ahora se está utilizando para transformar datos que no tienen nombres de características.\n",
    "\n",
    "Esto puede suceder si estás utilizando un DataFrame de Pandas para entrenar el modelo y ajustar el escalador, pero luego estás utilizando un array NumPy para hacer predicciones. Los arrays NumPy no tienen nombres de características, por lo que el escalador no puede encontrar las características que espera.\n",
    "\n",
    "Para solucionar este problema, puedes intentar lo siguiente:\n",
    "\n",
    "1. Utilizar un DataFrame de Pandas para hacer predicciones:\n",
    "Si es posible, utiliza un DataFrame de Pandas para almacenar los datos de entrada que se utilizarán para hacer predicciones. Asegúrate de que el DataFrame tenga los mismos nombres de columnas que el DataFrame que se utilizó para entrenar el modelo y ajustar el escalador.\n",
    "\n",
    "2. Asignar nombres de características al array NumPy:\n",
    "Si no puedes utilizar un DataFrame de Pandas, puedes asignar nombres de características al array NumPy utilizando la función np.array con el argumento dtype:"
   ]
  },
  {
   "cell_type": "code",
   "execution_count": null,
   "metadata": {},
   "outputs": [],
   "source": [
    "input_data = np.array(input_data, dtype=[('feature1', float), ('feature2', float), ...])"
   ]
  },
  {
   "cell_type": "markdown",
   "metadata": {},
   "source": [
    "Reemplaza feature1, feature2, etc. con los nombres de las características que espera el escalador.\n",
    "\n",
    "3. Ignorar la advertencia:\n",
    "Si la advertencia no afecta el rendimiento del modelo, puedes ignorarla utilizando la función warnings.filterwarnings:"
   ]
  },
  {
   "cell_type": "code",
   "execution_count": null,
   "metadata": {},
   "outputs": [],
   "source": [
    "import warnings\n",
    "\n",
    "warnings.filterwarnings('ignore', message='X does not have valid feature names, but')"
   ]
  },
  {
   "cell_type": "markdown",
   "metadata": {},
   "source": [
    "Esto ignorará todas las advertencias que contengan la frase \"X does not have valid feature names, but\".\n",
    "\n",
    "Espero que alguna de estas soluciones te ayude a resolver el problema. Si aún tienes problemas, por favor, proporciona más detalles sobre el código que estás utilizando para que pueda ayudarte mejor."
   ]
  },
  {
   "cell_type": "markdown",
   "metadata": {},
   "source": [
    "Gemini"
   ]
  },
  {
   "cell_type": "markdown",
   "metadata": {},
   "source": [
    "Input feature scaling"
   ]
  },
  {
   "cell_type": "code",
   "execution_count": 99,
   "metadata": {},
   "outputs": [
    {
     "name": "stderr",
     "output_type": "stream",
     "text": [
      "c:\\Users\\HP\\AppData\\Local\\Programs\\Python\\Python312\\Lib\\site-packages\\sklearn\\base.py:493: UserWarning: X does not have valid feature names, but MinMaxScaler was fitted with feature names\n",
      "  warnings.warn(\n"
     ]
    }
   ],
   "source": [
    "new0 = [76,313,0.07434712,-0.160547951,1.036401408,-0.285662496,-0.026823649,41,18,66,7,76,313,0.038309507,0.025784325,0.025930319,0.02527078,0.025930319,2,18,22,2] # N\n",
    "new1 = [313,315,-0.052078893,-0.264784292,0.886596913,-0.366297705,-0.059710405,21,4,33,8,313,315,0.014263639,0.045458043,0.032572702,-0.104502953,-0.042008529,26,27,62,9] # N\n",
    "new2 = [151,439,0.463362235,0.519227559,0.399900123,-0.835039794,-0.206610994,47,39,171,85,151,439,-0.277927062,-0.273391493,-0.574060719,-0.597215122,-0.574060719,2,11,23,10] # VEB\n",
    "\n",
    "new_2d = np.reshape(new2, (1, -1))\n",
    "new_2d_scale = min_max_scaler.transform(new_2d)\n",
    "new_2d_scale = new_2d_scale.flatten()\n",
    "#new_2d_scale = new_2d_scale.reshape(1, -1)\n",
    "\n",
    "prediccion0 = model.predict([new_2d_scale])"
   ]
  },
  {
   "cell_type": "code",
   "execution_count": 100,
   "metadata": {},
   "outputs": [
    {
     "data": {
      "text/plain": [
       "array(['arrhythmia'], dtype=object)"
      ]
     },
     "execution_count": 100,
     "metadata": {},
     "output_type": "execute_result"
    }
   ],
   "source": [
    "prediccion0"
   ]
  },
  {
   "cell_type": "code",
   "execution_count": 84,
   "metadata": {},
   "outputs": [
    {
     "data": {
      "text/plain": [
       "array([0.06076555, 0.20540797, 0.51576931, 0.41236779, 0.43379879,\n",
       "       0.36478728, 0.52714496, 0.27647059, 0.25503356, 0.50455927,\n",
       "       0.6       , 0.06076555, 0.20540797, 0.25177973, 0.2337888 ,\n",
       "       0.41534152, 0.58671697, 0.5157798 , 0.00913242, 0.05434783,\n",
       "       0.04422604, 0.04787234])"
      ]
     },
     "execution_count": 84,
     "metadata": {},
     "output_type": "execute_result"
    }
   ],
   "source": [
    "new_2d_scale"
   ]
  },
  {
   "cell_type": "code",
   "execution_count": 50,
   "metadata": {},
   "outputs": [],
   "source": [
    "#import wfdb"
   ]
  }
 ],
 "metadata": {
  "kernelspec": {
   "display_name": "Python 3",
   "language": "python",
   "name": "python3"
  },
  "language_info": {
   "codemirror_mode": {
    "name": "ipython",
    "version": 3
   },
   "file_extension": ".py",
   "mimetype": "text/x-python",
   "name": "python",
   "nbconvert_exporter": "python",
   "pygments_lexer": "ipython3",
   "version": "3.12.6"
  }
 },
 "nbformat": 4,
 "nbformat_minor": 2
}
