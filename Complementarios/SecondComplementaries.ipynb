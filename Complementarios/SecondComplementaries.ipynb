{
 "cells": [
  {
   "cell_type": "code",
   "execution_count": null,
   "metadata": {},
   "outputs": [],
   "source": [
    "# Complementario No en el libro\n",
    "print(\"Código de encriptación\")\n",
    "\n",
    "i = int(input(\"Introduzca el código de uso único:\"))\n",
    "wrd = input(\"Introduzca el mensaje:\")\n",
    "\n",
    "print(\"El mensaje es %s con código %d\" %(wrd, i))\n"
   ]
  },
  {
   "cell_type": "code",
   "execution_count": null,
   "metadata": {},
   "outputs": [],
   "source": [
    "# Complementario 6\n",
    "# Leer tres numeros enteros y si el primero de ellos es negativo"
   ]
  }
 ],
 "metadata": {
  "kernelspec": {
   "display_name": "Python 3",
   "language": "python",
   "name": "python3"
  },
  "language_info": {
   "codemirror_mode": {
    "name": "ipython",
    "version": 3
   },
   "file_extension": ".py",
   "mimetype": "text/x-python",
   "name": "python",
   "nbconvert_exporter": "python",
   "pygments_lexer": "ipython3",
   "version": "3.11.2"
  },
  "orig_nbformat": 4
 },
 "nbformat": 4,
 "nbformat_minor": 2
}
